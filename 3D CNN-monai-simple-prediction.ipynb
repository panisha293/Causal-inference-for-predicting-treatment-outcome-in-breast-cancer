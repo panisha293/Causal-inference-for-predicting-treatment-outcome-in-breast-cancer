{
 "cells": [
  {
   "cell_type": "markdown",
   "metadata": {},
   "source": [
    "### Importing necessary files"
   ]
  },
  {
   "cell_type": "code",
   "execution_count": null,
   "metadata": {},
   "outputs": [],
   "source": [
    "!pip install monai"
   ]
  },
  {
   "cell_type": "code",
   "execution_count": 1,
   "metadata": {},
   "outputs": [
    {
     "name": "stdout",
     "output_type": "stream",
     "text": [
      "C:\\Users\\ASIVAKUM\\Desktop\\monai_utils\n"
     ]
    }
   ],
   "source": [
    "cd C:\\Users\\ASIVAKUM\\Desktop\\monai_utils\\"
   ]
  },
  {
   "cell_type": "code",
   "execution_count": 343,
   "metadata": {},
   "outputs": [
    {
     "name": "stdout",
     "output_type": "stream",
     "text": [
      "Requirement already satisfied: rising in c:\\users\\asivakum\\anaconda3\\lib\\site-packages (0.3.0)\n",
      "Requirement already satisfied: lightning-utilities<0.5.0,>=0.4.2 in c:\\users\\asivakum\\anaconda3\\lib\\site-packages (from rising) (0.4.2)\n",
      "Requirement already satisfied: numpy in c:\\users\\asivakum\\anaconda3\\lib\\site-packages (from rising) (1.21.5)\n",
      "Requirement already satisfied: torch>=1.6 in c:\\users\\asivakum\\anaconda3\\lib\\site-packages (from rising) (1.12.1)\n",
      "Requirement already satisfied: tqdm in c:\\users\\asivakum\\anaconda3\\lib\\site-packages (from rising) (4.64.0)\n",
      "Requirement already satisfied: threadpoolctl in c:\\users\\asivakum\\anaconda3\\lib\\site-packages (from rising) (2.2.0)\n",
      "Requirement already satisfied: typing_extensions in c:\\users\\asivakum\\anaconda3\\lib\\site-packages (from torch>=1.6->rising) (4.1.1)\n",
      "Requirement already satisfied: colorama in c:\\users\\asivakum\\anaconda3\\lib\\site-packages (from tqdm->rising) (0.4.4)\n"
     ]
    }
   ],
   "source": [
    "!pip install rising"
   ]
  },
  {
   "cell_type": "code",
   "execution_count": null,
   "metadata": {},
   "outputs": [],
   "source": [
    "os.chdir( \"C:/Users/ASIVAKUM/Desktop/monai_utils/\")  #change directory to downloaded utility files\n",
    "\n",
    "!pip install monai-0.6.0-202107081903-py3-none-any.whl\n"
   ]
  },
  {
   "cell_type": "code",
   "execution_count": 7,
   "metadata": {},
   "outputs": [
    {
     "name": "stdout",
     "output_type": "stream",
     "text": [
      "Collecting pydicom\n",
      "  Downloading pydicom-2.3.1-py3-none-any.whl (2.0 MB)\n",
      "Installing collected packages: pydicom\n",
      "Successfully installed pydicom-2.3.1\n"
     ]
    }
   ],
   "source": [
    "!pip install pydicom"
   ]
  },
  {
   "cell_type": "code",
   "execution_count": null,
   "metadata": {},
   "outputs": [],
   "source": [
    "#!pip3 install albumentations\n",
    "!pip3 install --upgrade albumentations --user"
   ]
  },
  {
   "cell_type": "code",
   "execution_count": null,
   "metadata": {},
   "outputs": [],
   "source": [
    "!pip install -U albumentations"
   ]
  },
  {
   "cell_type": "code",
   "execution_count": null,
   "metadata": {},
   "outputs": [],
   "source": [
    "!pip3 install  imgaug\n",
    "!pip3 install  albumentations"
   ]
  },
  {
   "cell_type": "code",
   "execution_count": 2,
   "metadata": {
    "_cell_guid": "b1076dfc-b9ad-4769-8c92-a6c4dae69d19",
    "_uuid": "8f2839f25d086af736a60e9eeb907d3b93b6e0e5",
    "execution": {
     "iopub.execute_input": "2023-02-24T16:06:17.142388Z",
     "iopub.status.busy": "2023-02-24T16:06:17.142009Z",
     "iopub.status.idle": "2023-02-24T16:06:18.152133Z",
     "shell.execute_reply": "2023-02-24T16:06:18.151251Z",
     "shell.execute_reply.started": "2023-02-24T16:06:17.142345Z"
    }
   },
   "outputs": [],
   "source": [
    "import pandas as pd\n",
    "import numpy as np\n",
    "from tqdm import tqdm\n",
    "import os\n",
    "from IPython.display import clear_output\n",
    "\n",
    "from PIL import Image as im\n",
    "import pydicom\n",
    "from pydicom.pixel_data_handlers.util import apply_voi_lut\n",
    "\n",
    "from sklearn.model_selection import StratifiedKFold\n",
    "from sklearn.metrics import roc_auc_score\n",
    "import glob\n",
    "import cv2\n",
    "\n",
    "import torch.optim as optimizers\n",
    "import torch.optim.lr_scheduler as schedulers\n",
    "from torch.utils.data import Dataset"
   ]
  },
  {
   "cell_type": "code",
   "execution_count": 3,
   "metadata": {},
   "outputs": [],
   "source": [
    "from monai.transforms import (\n",
    "    EnsureChannelFirst,\n",
    "    Compose,\n",
    "    RandRotate90,\n",
    "    Resize,\n",
    "    ScaleIntensity,\n",
    ")"
   ]
  },
  {
   "cell_type": "code",
   "execution_count": 4,
   "metadata": {
    "execution": {
     "iopub.execute_input": "2023-02-24T16:06:18.154341Z",
     "iopub.status.busy": "2023-02-24T16:06:18.153994Z",
     "iopub.status.idle": "2023-02-24T16:06:20.787683Z",
     "shell.execute_reply": "2023-02-24T16:06:20.786726Z",
     "shell.execute_reply.started": "2023-02-24T16:06:18.154312Z"
    }
   },
   "outputs": [],
   "source": [
    "import albumentations as A\n",
    "import pandas as pd\n",
    "import numpy as np\n",
    "import torch\n",
    "import torch.nn as nn\n",
    "import torch.optim as optim\n",
    "from albumentations.pytorch import ToTensorV2\n",
    "from sklearn.metrics import roc_auc_score\n",
    "from torch.optim import lr_scheduler\n",
    "from tqdm import tqdm\n",
    "import re\n",
    "import torch.nn.functional as F\n",
    "import matplotlib.pyplot as plt\n",
    "import cv2"
   ]
  },
  {
   "cell_type": "markdown",
   "metadata": {},
   "source": [
    "### Setting necessary parameters"
   ]
  },
  {
   "cell_type": "code",
   "execution_count": 66,
   "metadata": {
    "execution": {
     "iopub.execute_input": "2023-02-24T16:06:20.789678Z",
     "iopub.status.busy": "2023-02-24T16:06:20.789346Z",
     "iopub.status.idle": "2023-02-24T16:06:20.794107Z",
     "shell.execute_reply": "2023-02-24T16:06:20.793082Z",
     "shell.execute_reply.started": "2023-02-24T16:06:20.789642Z"
    }
   },
   "outputs": [],
   "source": [
    "NUM_IMAGES_3D = 64\n",
    "TRAINING_BATCH_SIZE = 8\n",
    "TEST_BATCH_SIZE = 8\n",
    "IMAGE_SIZE = 256\n",
    "N_EPOCHS = 15\n",
    "do_valid = True\n",
    "n_workers = 4\n"
   ]
  },
  {
   "cell_type": "markdown",
   "metadata": {},
   "source": [
    "#### Note: same helper functions are used for 2d CNN, check out comments in 2D cnn notebook for more detailed description"
   ]
  },
  {
   "cell_type": "code",
   "execution_count": 67,
   "metadata": {},
   "outputs": [],
   "source": [
    "def compute_precision(output, target, topk=(1, ), return_preds=False):\n",
    "    \"\"\"Computes the precision@k for the specified values of k\"\"\"\n",
    "    topk_orig = topk\n",
    "    topk = [k for k in topk if k <= output.size(1)]\n",
    "    maxk = max(topk)\n",
    "    batch_size = target.size(0)\n",
    "\n",
    "    _, pred = output.topk(maxk, 1, True, True)\n",
    "    label_preds = pred[:, 0]\n",
    "    pred = pred.t()\n",
    "    correct = pred.eq(target.view(1, -1).expand_as(pred))\n",
    "\n",
    "    res = []\n",
    "    for k in topk:\n",
    "        correct_k = correct[:k].view(-1).float().sum(0)\n",
    "        res.append(correct_k.mul_(100. / batch_size))\n",
    "    res.extend(100 for k in topk_orig if k > output.size(1))\n",
    "    if return_preds:\n",
    "        return res, label_preds\n",
    "    return res"
   ]
  },
  {
   "cell_type": "code",
   "execution_count": 72,
   "metadata": {
    "execution": {
     "iopub.execute_input": "2023-02-24T16:06:20.795826Z",
     "iopub.status.busy": "2023-02-24T16:06:20.795349Z",
     "iopub.status.idle": "2023-02-24T16:06:20.806890Z",
     "shell.execute_reply": "2023-02-24T16:06:20.805820Z",
     "shell.execute_reply.started": "2023-02-24T16:06:20.795790Z"
    }
   },
   "outputs": [],
   "source": [
    "\n",
    "def load_dicom_image(path, img_size=256, voi_lut=True, rotate=0,transform = None):\n",
    "    \"\"\"\n",
    "    Load dicom images present in the directory\n",
    "    :param path: path to file\n",
    "    :img_size: resizes images to given size\n",
    "    :voi_lut: if True gets 3D MRI images\n",
    "    :rotate: if rotation needs to be done\n",
    "    :img_type: if image type is dicom load pixel array or if annotated slices load using pickle\n",
    "    \"\"\" \n",
    "    dicom = pydicom.read_file(path)\n",
    "    data = dicom.pixel_array\n",
    "    \n",
    "    if voi_lut:\n",
    "        data = apply_voi_lut(dicom.pixel_array, dicom)\n",
    "        \n",
    "        if transform=='default':\n",
    "            data = cv2.normalize(data, None, alpha=0, beta=1, norm_type=cv2.NORM_MINMAX, dtype=cv2.CV_32F)         \n",
    "            data = cv2.resize(data,(img_size, img_size)) \n",
    "            \n",
    "            \n",
    "        else:\n",
    "            data = cv2.resize(data, (img_size, img_size))\n",
    "    else:\n",
    "        data = dicom.pixel_array\n",
    "        data = cv2.resize(data, (img_size, img_size))\n",
    "    \n",
    "    \n",
    "    \n",
    "    return data"
   ]
  },
  {
   "cell_type": "code",
   "execution_count": 73,
   "metadata": {},
   "outputs": [],
   "source": [
    "def init_scheduler(scheduler_config, optimizer):  # *\n",
    "    \n",
    "        scheduler_class = getattr(schedulers, scheduler_config['class_name'])\n",
    "        return scheduler_class(optimizer, **scheduler_config['class_args'])"
   ]
  },
  {
   "cell_type": "code",
   "execution_count": 74,
   "metadata": {},
   "outputs": [],
   "source": [
    "def evaluate_confusion_matrix(dataloader,model,verbose=False,device = torch.device(\"cuda\")):\n",
    "    \"\"\"\n",
    "    Evaluate the model's accuracy \n",
    "    :param dataloader: The dataloader for the validation/testing data\n",
    "    :param model: The model to evaluate\n",
    "    :param verbose: Whether to print the results\n",
    "    :device: shows which device to use\n",
    "    :return: Accuracy ,Sensitivity, Specificity and confusion matrix of model\n",
    "    \"\"\"\n",
    "    total_acc_val =0\n",
    "    model.eval()\n",
    "    preds =[]\n",
    "    labels = []\n",
    "    with torch.no_grad():\n",
    "        for test_input,label in dataloader:\n",
    "            test_input, label = test_input.to(device), label.to(device)\n",
    "            model.eval()\n",
    "            \n",
    "            outputs = model(test_input)\n",
    "            y_hat = F.softmax(outputs)\n",
    "            acc = (outputs.argmax(dim=1) == label ).sum().item()\n",
    "            total_acc_val += acc\n",
    "            _, pred = outputs.max(1)\n",
    "            \n",
    "            preds.append(y_hat)\n",
    "            labels.append(label.numpy() )\n",
    "            if verbose:\n",
    "                print(\"model predictions\",pred,\"/\",label)\n",
    "            import gc\n",
    "            gc.collect()\n",
    "        accuracy = total_acc_val/len(test_csv)       \n",
    "        cm = confusion_matrix(label,pred)\n",
    "        ax= plt.subplot()\n",
    "        sns.heatmap(cm, annot=True, fmt='g', ax=ax);  \n",
    "\n",
    "        # labels, title and ticks\n",
    "        ax.set_xlabel('Predicted labels');ax.set_ylabel('True labels'); \n",
    "        ax.set_title('Confusion Matrix'); \n",
    "\n",
    "\n",
    "        class_report = metrics.classification_report(y_true = label, y_pred =pred, output_dict=True)\n",
    "\n",
    "        print(\"Sensitivity %.4f\"%(class_report['1']['recall']))\n",
    "\n",
    "        print(\"Specificity %.4f\"%(class_report['0']['recall']))\n",
    "\n",
    "        print(\"Precision %.4f\"%(class_report['1']['precision']))\n",
    "\n",
    "        print(\"False Positive Rate %.4f\"%(1-class_report['0']['recall']))\n",
    "\n",
    "        print(\"F1-score %.4f\"%(class_report['1']['f1-score']))\n",
    "        if verbose:\n",
    "            print(\"accuracy of model\",accuracy)\n",
    "        return accuracy"
   ]
  },
  {
   "cell_type": "code",
   "execution_count": 75,
   "metadata": {},
   "outputs": [],
   "source": [
    "def evaluate(dataloader,model,verbose=False):\n",
    "    total_acc_val =0\n",
    "    model.eval()\n",
    "    with torch.no_grad():\n",
    "        for test_input,label in dataloader:\n",
    "            model.eval()\n",
    "            \n",
    "            outputs = model(test_input)\n",
    "            y_hat = F.softmax(outputs)\n",
    "            acc = (outputs.argmax(dim=1) == label ).sum().item()\n",
    "            total_acc_val += acc\n",
    "            _, pred = outputs.max(1)\n",
    "            if verbose:\n",
    "                print(\"model predictions\",pred,\"/\",label)\n",
    "            import gc\n",
    "            gc.collect()\n",
    "        accuracy = total_acc_val/len(test_csv)       \n",
    "        \n",
    "        if verbose:\n",
    "            print(\"accuracy of model\",accuracy)\n",
    "        return accuracy\n",
    "        \n",
    "        "
   ]
  },
  {
   "cell_type": "code",
   "execution_count": 76,
   "metadata": {},
   "outputs": [],
   "source": [
    "def get_train_splits(file=None,val_prop=0.10,test_prop=0.2):\n",
    "    \n",
    "    ''' Randomizes the train-validation-Test instances with fixed proportion'''\n",
    "    \n",
    "    \n",
    "        \n",
    "    df_splits = file\n",
    "    df_splits.reset_index(inplace=True,drop = True)\n",
    "\n",
    "    prop = test_prop\n",
    "\n",
    "    df1 = df_splits[df_splits['Neoadjuvant therapy'] == 1 ]\n",
    "    df2 = df_splits[df_splits['Neoadjuvant therapy'] == 2 ]\n",
    "\n",
    "    print(len(df1))\n",
    "    print(len(df2))\n",
    "\n",
    "    df_sample = df1.sample(frac=1)\n",
    "    t_size1 = int(test_prop* len(df_sample))\n",
    "   \n",
    "\n",
    "    df_split1_1 = df_sample[:t_size1]\n",
    "    df_split1_2 = df_sample[t_size1:]\n",
    "\n",
    "\n",
    "    df_sample2 = df2.sample(frac=1)\n",
    "    t_size2 = int(test_prop* len(df_sample2))\n",
    "    \n",
    "    \n",
    "    df_split2_1 = df_sample2[:t_size2]\n",
    "    df_split2_2 = df_sample2[t_size2:]\n",
    "\n",
    "\n",
    "    df_split_test = pd.concat([df_split2_1,df_split1_1], axis=0)    \n",
    "    df_split_train = pd.concat([df_split1_2, df_split2_2], axis=0)\n",
    "\n",
    "    \n",
    "    df_split_train.reset_index(inplace=True,drop=True)\n",
    "    df_split_test.reset_index(inplace=True,drop=True)\n",
    "    \n",
    "    return df_split_train,df_split_test"
   ]
  },
  {
   "cell_type": "code",
   "execution_count": 77,
   "metadata": {},
   "outputs": [],
   "source": [
    "\n",
    "def get_sampler_weights(subclass_labels):\n",
    "    \n",
    "    subclasses = torch.unique(subclass_labels)\n",
    "    \n",
    "    subclass_freqs = []\n",
    "\n",
    "    for subclass in subclasses:\n",
    "        subclass_counts = sum(subclass_labels == subclass)\n",
    "        subclass_freqs.append(1 / subclass_counts)\n",
    "\n",
    "    subclass_weights = torch.zeros_like(subclass_labels).float()\n",
    "    \n",
    "\n",
    "    for idx, label in enumerate(subclass_labels):\n",
    "            if idx ==0:\n",
    "                pass\n",
    "            else:\n",
    "                \n",
    "                subclass_weights[idx] = subclass_freqs[int(label)]\n",
    "\n",
    "    return subclass_weights"
   ]
  },
  {
   "cell_type": "code",
   "execution_count": 78,
   "metadata": {},
   "outputs": [],
   "source": [
    "def train_3dnet(params,trainDataloader,test_dataloader,model,epochs=2):\n",
    "\n",
    "    max_val_acc = -1\n",
    "    perfect_epoch = 0\n",
    "    max_val_acc = 0\n",
    "    \n",
    "    criterion = nn.CrossEntropyLoss()\n",
    "    \n",
    "    if params['opt'] =='Adam':\n",
    "        optimizer = torch.optim.Adam(model.parameters(), lr =params['learning_rate']) \n",
    "    else:\n",
    "        optimizer = torch.optim.SGD(model.parameters(), lr =params['learning_rate'],weight_decay =params['w_d']) \n",
    "        \n",
    "    if params['scheduler_choice'] == 1:\n",
    "        scheduler = init_scheduler({'class_args': {'patience':params['patience'],'factor': params['factor'],'mode':'max'},'class_name': 'ReduceLROnPlateau'},optimizer)   \n",
    "    else:\n",
    "        scheduler = None\n",
    "    EPOCHS=epochs\n",
    "    device = torch.device(\"cpu\")\n",
    "    \n",
    "    model.train()\n",
    "    for epoch in range(EPOCHS):\n",
    "        for  train_input,train_label in trainDataloader:\n",
    "\n",
    "\n",
    "            train_label = train_label.to(device)\n",
    "            train_input = train_input.to(device)\n",
    "\n",
    "\n",
    "            optimizer.zero_grad()\n",
    "            output = model(train_input)\n",
    "\n",
    "            _, predictions = output.max(1)\n",
    "            \n",
    "            loss = criterion(output,train_label)\n",
    "            batch_loss =loss\n",
    "\n",
    "\n",
    "            print(batch_loss)\n",
    "\n",
    "            model.zero_grad()\n",
    "\n",
    "            batch_loss.backward()\n",
    "            optimizer.step()\n",
    "    \n",
    "        model.eval()\n",
    "        cur_model = model \n",
    "        with torch.no_grad():\n",
    "            acc = evaluate(test_dataloader,model)\n",
    "            print(\"epoch\", epoch,'\\n'\n",
    "                  \"Validation Accuracy\",acc,'\\n'\n",
    "                  \"Best accuracy\",max_val_acc)\n",
    "            if acc > max_val_acc:\n",
    "                perfect_epoch = epoch\n",
    "                max_val_acc = acc\n",
    "                model = cur_model\n",
    "                old_model =  model\n",
    "                torch.save(model.state_dict(), 'D:/Duke/Best_model_3dnet.pth')\n",
    "                print(\"perfect epoch\",perfect_epoch)\n",
    "            else:\n",
    "                try:\n",
    "                    model = old_model\n",
    "                except:\n",
    "                    pass\n",
    "            if scheduler:\n",
    "                scheduler.step(acc)\n",
    "    return model,max_val_acc\n",
    "                \n",
    "            \n",
    "                   \n",
    "                    \n",
    "             \n",
    "    "
   ]
  },
  {
   "cell_type": "code",
   "execution_count": 79,
   "metadata": {
    "execution": {
     "iopub.execute_input": "2023-02-24T16:06:20.808646Z",
     "iopub.status.busy": "2023-02-24T16:06:20.808249Z",
     "iopub.status.idle": "2023-02-24T16:06:20.821270Z",
     "shell.execute_reply": "2023-02-24T16:06:20.820258Z",
     "shell.execute_reply.started": "2023-02-24T16:06:20.808610Z"
    }
   },
   "outputs": [],
   "source": [
    "class Duke_Dataset(Dataset):\n",
    "    def __init__(self, data, transform=None, target=\"Neoadjuvant therapy\"):\n",
    "        self.target = target\n",
    "        self.data = data\n",
    "        \n",
    "        print(data['Neoadjuvant therapy'])\n",
    "        self.labels = torch.tensor(data[\"Neoadjuvant therapy\"].astype(int).replace(1, 0).replace(2, 1).values, device=device, dtype=torch.long)\n",
    "        \n",
    "        \n",
    "        self.transform = transform\n",
    "        self.locations = \"File_Location\"\n",
    "        \n",
    "        self.sub_id = \"Subject ID\"\n",
    "\n",
    "    def __len__(self):\n",
    "        return len(self.data)\n",
    "\n",
    "    def __getitem__(self, index):\n",
    "        row = self.data.loc[index]\n",
    "        case_id = str(row[self.locations])\n",
    "        \n",
    "        tgt = int(row[self.target])\n",
    "        if tgt == 1:\n",
    "            tgt =  torch.tensor(0, device=device, dtype=torch.long)\n",
    "        else:\n",
    "            tgt =  torch.tensor(1, device=device, dtype=torch.long)\n",
    "        _3d_images = self.load_dicom_images_3d(case_id)\n",
    "        _3d_images = torch.tensor(_3d_images).float()\n",
    "        \n",
    "        Subject_ID = str(row[self.sub_id])\n",
    "        Subject_ID = int(Subject_ID[-3:])\n",
    "        \n",
    "        \n",
    "        return   _3d_images,tgt\n",
    "        \n",
    "\n",
    "    def load_dicom_images_3d(\n",
    "        self,\n",
    "        case_id,\n",
    "        num_imgs=NUM_IMAGES_3D,\n",
    "        img_size=IMAGE_SIZE,\n",
    "        rotate=0,\n",
    "    ):\n",
    "        \n",
    "        case_id = case_id[25:]\n",
    "        path = r\"D:/Duke/manifest-1654812109500/Duke-Breast-Cancer-MRI/\" + (case_id).replace('\\\\', '/')  +\"/*.dcm\"\n",
    "        \n",
    "        \n",
    "        files = sorted(\n",
    "            glob.glob(path),\n",
    "            key=lambda var: [\n",
    "                int(x) if x.isdigit() else x for x in re.findall(r\"[^0-9]|[0-9]+\", var)\n",
    "            ],\n",
    "        )\n",
    "        \n",
    "        middle = len(files) // 2\n",
    "        num_imgs2 = num_imgs // 2\n",
    "        p1 = max(0, middle - num_imgs2)\n",
    "        p2 = min(len(files), middle + num_imgs2)\n",
    "        \n",
    "        #Use a stack of images\n",
    "        img_stack = [load_dicom_image(f, rotate=rotate,transform = self.transform) for f in files[p1:p2]]\n",
    "        img3d = np.stack(img_stack).T  \n",
    "        if img3d.shape[-1] < num_imgs:\n",
    "            n_zero = np.zeros((img_size, img_size, num_imgs - img3d.shape[-1]))\n",
    "            img3d = np.concatenate((img3d, n_zero), axis=-1)\n",
    "\n",
    "        if np.min(img3d) < np.max(img3d):\n",
    "            img3d = img3d - np.min(img3d)\n",
    "            img3d = img3d / np.max(img3d)\n",
    "\n",
    "        return np.expand_dims(img3d, 0)\n",
    "\n"
   ]
  },
  {
   "cell_type": "markdown",
   "metadata": {},
   "source": [
    "### Visualize an example"
   ]
  },
  {
   "cell_type": "code",
   "execution_count": 80,
   "metadata": {},
   "outputs": [
    {
     "data": {
      "image/png": "[encoded data removed]",
      "text/plain": [
       "<Figure size 432x288 with 1 Axes>"
      ]
     },
     "metadata": {
      "needs_background": "light"
     },
     "output_type": "display_data"
    }
   ],
   "source": [
    "path = 'D:/Duke/manifest-1654812109500/Duke-Breast-Cancer-MRI/Breast_MRI_014/1.3.6.1.4.1.14519.5.2.1.255250717143362607995339673691304916086/1.3.6.1.4.1.14519.5.2.1.233574991285618950508791657379713792377/1-01.dcm'\n",
    "img = load_dicom_image(path =path) \n",
    "plt.imshow(img, cmap=plt.cm.bone)  # set the color map to bone\n",
    "plt.show()"
   ]
  },
  {
   "cell_type": "code",
   "execution_count": 81,
   "metadata": {},
   "outputs": [
    {
     "data": {
      "text/plain": [
       "(256, 256)"
      ]
     },
     "execution_count": 81,
     "metadata": {},
     "output_type": "execute_result"
    }
   ],
   "source": [
    "#visualize uncropped image shape\n",
    "img.shape"
   ]
  },
  {
   "cell_type": "markdown",
   "metadata": {},
   "source": [
    "### Loading Pre-trained Network ###"
   ]
  },
  {
   "cell_type": "code",
   "execution_count": 82,
   "metadata": {
    "execution": {
     "iopub.execute_input": "2023-02-24T16:06:21.796442Z",
     "iopub.status.busy": "2023-02-24T16:06:21.796070Z",
     "iopub.status.idle": "2023-02-24T16:06:28.935587Z",
     "shell.execute_reply": "2023-02-24T16:06:28.934675Z",
     "shell.execute_reply.started": "2023-02-24T16:06:21.796399Z"
    }
   },
   "outputs": [],
   "source": [
    "import monai\n",
    "\n",
    "# model \n",
    "model = monai.networks.nets.resnet10(spatial_dims=3, n_input_channels=1, n_classes=2)\n",
    "device = torch.device(\"cpu\")\n",
    "model.to(device);\n",
    "\n",
    "criterion = nn.CrossEntropyLoss()"
   ]
  },
  {
   "cell_type": "markdown",
   "metadata": {},
   "source": [
    "### Load metadata file and other necessary files"
   ]
  },
  {
   "cell_type": "code",
   "execution_count": 83,
   "metadata": {},
   "outputs": [],
   "source": [
    "metadata = pd.read_csv('D:/Duke/manifest-1654812109500/metadata.csv',index_col=0)\n",
    "clinic = pd.read_excel('D:/Duke/manifest-1654812109500/Clinical_and_Other_Features.xlsx',index_col=0)\n",
    "\n",
    "clinic = clinic.drop(clinic.index[0])\n",
    "clinic = clinic.drop(clinic.index[0])\n",
    "\n",
    "clinic.reset_index(inplace=True)\n",
    "\n",
    "clinic.rename(columns={'Patient Information': 'Subject ID'}, inplace=True)"
   ]
  },
  {
   "cell_type": "code",
   "execution_count": 84,
   "metadata": {},
   "outputs": [],
   "source": [
    "metadata = metadata.merge(clinic, on='Subject ID')\n",
    "metadata.rename(columns={'File Location': 'File_Location'}, inplace=True)"
   ]
  },
  {
   "cell_type": "markdown",
   "metadata": {},
   "source": [
    "### Take first group of images from each patient and splitting training and testing patients"
   ]
  },
  {
   "cell_type": "code",
   "execution_count": 85,
   "metadata": {},
   "outputs": [],
   "source": [
    "metadata = metadata.groupby('Subject ID').first()\n",
    "metadata.drop(metadata.loc[metadata['Number of Images']==1].index, inplace=True)"
   ]
  },
  {
   "cell_type": "code",
   "execution_count": 86,
   "metadata": {},
   "outputs": [],
   "source": [
    "metadata.reset_index(drop=False,inplace=True)"
   ]
  },
  {
   "cell_type": "code",
   "execution_count": 87,
   "metadata": {},
   "outputs": [
    {
     "name": "stdout",
     "output_type": "stream",
     "text": [
      "297\n",
      "542\n"
     ]
    }
   ],
   "source": [
    "train_csv_og,test_csv_og = get_train_splits(metadata)"
   ]
  },
  {
   "cell_type": "markdown",
   "metadata": {},
   "source": [
    "### Check target variable distribution"
   ]
  },
  {
   "cell_type": "code",
   "execution_count": 88,
   "metadata": {},
   "outputs": [
    {
     "data": {
      "text/plain": [
       "2.0    434\n",
       "1.0    238\n",
       "Name: Neoadjuvant therapy, dtype: int64"
      ]
     },
     "execution_count": 88,
     "metadata": {},
     "output_type": "execute_result"
    }
   ],
   "source": [
    "train_csv_og['Neoadjuvant therapy'].value_counts()"
   ]
  },
  {
   "cell_type": "code",
   "execution_count": 89,
   "metadata": {},
   "outputs": [
    {
     "data": {
      "text/plain": [
       "2.0    108\n",
       "1.0     59\n",
       "Name: Neoadjuvant therapy, dtype: int64"
      ]
     },
     "execution_count": 89,
     "metadata": {},
     "output_type": "execute_result"
    }
   ],
   "source": [
    "\n",
    "test_csv_og['Neoadjuvant therapy'].value_counts()"
   ]
  },
  {
   "cell_type": "markdown",
   "metadata": {},
   "source": [
    "### Look at model structure"
   ]
  },
  {
   "cell_type": "code",
   "execution_count": 90,
   "metadata": {
    "execution": {
     "iopub.execute_input": "2023-02-24T16:08:53.986100Z",
     "iopub.status.busy": "2023-02-24T16:08:53.985759Z",
     "iopub.status.idle": "2023-02-24T16:08:53.993098Z",
     "shell.execute_reply": "2023-02-24T16:08:53.992066Z",
     "shell.execute_reply.started": "2023-02-24T16:08:53.986065Z"
    }
   },
   "outputs": [
    {
     "name": "stdout",
     "output_type": "stream",
     "text": [
      "ResNet(\n",
      "  (conv1): Conv3d(1, 64, kernel_size=(7, 7, 7), stride=(1, 2, 2), padding=(3, 3, 3), bias=False)\n",
      "  (bn1): BatchNorm3d(64, eps=1e-05, momentum=0.1, affine=True, track_running_stats=True)\n",
      "  (relu): ReLU(inplace=True)\n",
      "  (maxpool): MaxPool3d(kernel_size=3, stride=2, padding=1, dilation=1, ceil_mode=False)\n",
      "  (layer1): Sequential(\n",
      "    (0): ResNetBlock(\n",
      "      (conv1): Conv3d(64, 64, kernel_size=(3, 3, 3), stride=(1, 1, 1), padding=(1, 1, 1), bias=False)\n",
      "      (bn1): BatchNorm3d(64, eps=1e-05, momentum=0.1, affine=True, track_running_stats=True)\n",
      "      (relu): ReLU(inplace=True)\n",
      "      (conv2): Conv3d(64, 64, kernel_size=(3, 3, 3), stride=(1, 1, 1), padding=(1, 1, 1), bias=False)\n",
      "      (bn2): BatchNorm3d(64, eps=1e-05, momentum=0.1, affine=True, track_running_stats=True)\n",
      "    )\n",
      "  )\n",
      "  (layer2): Sequential(\n",
      "    (0): ResNetBlock(\n",
      "      (conv1): Conv3d(64, 128, kernel_size=(3, 3, 3), stride=(2, 2, 2), padding=(1, 1, 1), bias=False)\n",
      "      (bn1): BatchNorm3d(128, eps=1e-05, momentum=0.1, affine=True, track_running_stats=True)\n",
      "      (relu): ReLU(inplace=True)\n",
      "      (conv2): Conv3d(128, 128, kernel_size=(3, 3, 3), stride=(1, 1, 1), padding=(1, 1, 1), bias=False)\n",
      "      (bn2): BatchNorm3d(128, eps=1e-05, momentum=0.1, affine=True, track_running_stats=True)\n",
      "      (downsample): Sequential(\n",
      "        (0): Conv3d(64, 128, kernel_size=(1, 1, 1), stride=(2, 2, 2))\n",
      "        (1): BatchNorm3d(128, eps=1e-05, momentum=0.1, affine=True, track_running_stats=True)\n",
      "      )\n",
      "    )\n",
      "  )\n",
      "  (layer3): Sequential(\n",
      "    (0): ResNetBlock(\n",
      "      (conv1): Conv3d(128, 256, kernel_size=(3, 3, 3), stride=(2, 2, 2), padding=(1, 1, 1), bias=False)\n",
      "      (bn1): BatchNorm3d(256, eps=1e-05, momentum=0.1, affine=True, track_running_stats=True)\n",
      "      (relu): ReLU(inplace=True)\n",
      "      (conv2): Conv3d(256, 256, kernel_size=(3, 3, 3), stride=(1, 1, 1), padding=(1, 1, 1), bias=False)\n",
      "      (bn2): BatchNorm3d(256, eps=1e-05, momentum=0.1, affine=True, track_running_stats=True)\n",
      "      (downsample): Sequential(\n",
      "        (0): Conv3d(128, 256, kernel_size=(1, 1, 1), stride=(2, 2, 2))\n",
      "        (1): BatchNorm3d(256, eps=1e-05, momentum=0.1, affine=True, track_running_stats=True)\n",
      "      )\n",
      "    )\n",
      "  )\n",
      "  (layer4): Sequential(\n",
      "    (0): ResNetBlock(\n",
      "      (conv1): Conv3d(256, 512, kernel_size=(3, 3, 3), stride=(2, 2, 2), padding=(1, 1, 1), bias=False)\n",
      "      (bn1): BatchNorm3d(512, eps=1e-05, momentum=0.1, affine=True, track_running_stats=True)\n",
      "      (relu): ReLU(inplace=True)\n",
      "      (conv2): Conv3d(512, 512, kernel_size=(3, 3, 3), stride=(1, 1, 1), padding=(1, 1, 1), bias=False)\n",
      "      (bn2): BatchNorm3d(512, eps=1e-05, momentum=0.1, affine=True, track_running_stats=True)\n",
      "      (downsample): Sequential(\n",
      "        (0): Conv3d(256, 512, kernel_size=(1, 1, 1), stride=(2, 2, 2))\n",
      "        (1): BatchNorm3d(512, eps=1e-05, momentum=0.1, affine=True, track_running_stats=True)\n",
      "      )\n",
      "    )\n",
      "  )\n",
      "  (avgpool): AdaptiveAvgPool3d(output_size=(1, 1, 1))\n",
      "  (fc): Linear(in_features=512, out_features=2, bias=True)\n",
      ")\n"
     ]
    }
   ],
   "source": [
    "print(model)"
   ]
  },
  {
   "cell_type": "markdown",
   "metadata": {},
   "source": [
    "### Train 3D Cnn model"
   ]
  },
  {
   "cell_type": "code",
   "execution_count": 91,
   "metadata": {},
   "outputs": [],
   "source": [
    "train_csv_og.reset_index(drop=True,inplace=True)"
   ]
  },
  {
   "cell_type": "code",
   "execution_count": 92,
   "metadata": {},
   "outputs": [
    {
     "name": "stdout",
     "output_type": "stream",
     "text": [
      "0      1.0\n",
      "1      1.0\n",
      "2      1.0\n",
      "3      1.0\n",
      "4      1.0\n",
      "      ... \n",
      "205    2.0\n",
      "206    2.0\n",
      "207    2.0\n",
      "208    2.0\n",
      "209    2.0\n",
      "Name: Neoadjuvant therapy, Length: 210, dtype: float64\n"
     ]
    }
   ],
   "source": [
    "\n",
    "from torchvision import transforms\n",
    "\n",
    "#use equal, lower number of examples for each trial due to memory allocation issue.\n",
    "train_csv=train_csv_og[133:343]\n",
    "train_csv.reset_index(drop=True,inplace=True)\n",
    "train_dataset = Duke_Dataset(data=train_csv,transform ='default')\n",
    "weights = get_sampler_weights(train_dataset.labels)                                                            \n",
    "sampler = torch.utils.data.sampler.WeightedRandomSampler(weights, len(weights))                     \n",
    "train_dl = torch.utils.data.DataLoader(train_dataset,num_workers=0, batch_size =1,sampler=sampler)\n",
    "\n",
    "  "
   ]
  },
  {
   "cell_type": "code",
   "execution_count": 93,
   "metadata": {},
   "outputs": [
    {
     "name": "stdout",
     "output_type": "stream",
     "text": [
      "210\n"
     ]
    }
   ],
   "source": [
    "print(len(train_dataset.labels))"
   ]
  },
  {
   "cell_type": "code",
   "execution_count": 94,
   "metadata": {},
   "outputs": [
    {
     "name": "stdout",
     "output_type": "stream",
     "text": [
      "0    2.0\n",
      "1    2.0\n",
      "2    2.0\n",
      "3    2.0\n",
      "4    2.0\n",
      "5    1.0\n",
      "6    1.0\n",
      "7    1.0\n",
      "8    1.0\n",
      "9    1.0\n",
      "Name: Neoadjuvant therapy, dtype: float64\n"
     ]
    }
   ],
   "source": [
    "test_csv=test_csv_og[103:113]\n",
    "test_csv.reset_index(drop=True,inplace=True)\n",
    "test_dataset = Duke_Dataset(data=test_csv,transform ='default')\n",
    "test_weights = get_sampler_weights(test_dataset.labels)                                                            \n",
    "test_sampler = torch.utils.data.sampler.WeightedRandomSampler(test_weights, len(test_weights))   \n",
    "test_dl = torch.utils.data.DataLoader(test_dataset, num_workers=0, batch_size =2, sampler=test_sampler)\n"
   ]
  },
  {
   "cell_type": "code",
   "execution_count": 95,
   "metadata": {},
   "outputs": [
    {
     "name": "stdout",
     "output_type": "stream",
     "text": [
      "183\n",
      "346\n",
      "243\n",
      "957\n",
      "477\n",
      "624\n",
      "598\n",
      "314\n",
      "918\n",
      "259\n"
     ]
    }
   ],
   "source": [
    "test_csv['File_Location']\n",
    "\n",
    "for i in test_csv['File_Location']:\n",
    "    i = i[-3:]\n",
    "    print(i)"
   ]
  },
  {
   "cell_type": "code",
   "execution_count": 96,
   "metadata": {},
   "outputs": [],
   "source": [
    "params ={   'learning_rate':1e-4,\n",
    "            'patience':2,\n",
    "            'w_d': 0.005,\n",
    "            'factor': 0.3,\n",
    "            'scheduler_choice': 2,\n",
    "            'opt': 'Adam' }"
   ]
  },
  {
   "cell_type": "code",
   "execution_count": null,
   "metadata": {},
   "outputs": [],
   "source": [
    "#load downloaded pretrained weights from medical net\n",
    "PATH_MODELS = 'D:/Duke/MedicalNet_pretrained_weights_23/'\n",
    "PATH_PRETRAINED_WEIGHTS = os.path.join(PATH_MODELS, \"resnet_10_23dataset.pth\")\n",
    "pretrained_model_weights = PATH_PRETRAINED_WEIGHTS\n",
    "\n",
    "pretrain = torch.load(pretrained_model_weights)\n",
    "pretrain['state_dict'] = {k.replace('module.', ''): v for k,v in pretrain['state_dict'].items()}\n",
    "\n",
    "#set spatial dimensions to be 3 so that it accepts volumetric data\n",
    "model = monai.networks.nets.resnet10(spatial_dims=3, n_input_channels=1, n_classes=2)\n",
    "model.load_state_dict(pretrain['state_dict'],strict=False)\n",
    "\n",
    "modelA,max_acc = train_3dnet(params,train_dl,test_dl, model,epochs=1)\n",
    "modelA.load_state_dict(torch.load('D:/Duke/Best_model_3dnet.pth'))\n",
    "clear_output()\n",
    "acc = evaluate(test_dl,modelA,verbose=True)"
   ]
  },
  {
   "cell_type": "code",
   "execution_count": 40,
   "metadata": {},
   "outputs": [
    {
     "name": "stderr",
     "output_type": "stream",
     "text": [
      "C:\\Users\\ASIVAKUM\\AppData\\Local\\Temp\\ipykernel_13252\\2237571909.py:9: UserWarning: Implicit dimension choice for softmax has been deprecated. Change the call to include dim=X as an argument.\n",
      "  y_hat = F.softmax(outputs)\n"
     ]
    },
    {
     "name": "stdout",
     "output_type": "stream",
     "text": [
      "model predictions tensor([1, 1]) / tensor([1, 0])\n",
      "model predictions tensor([1, 1]) / tensor([1, 1])\n",
      "model predictions tensor([1, 1]) / tensor([0, 0])\n",
      "model predictions tensor([0, 1]) / tensor([0, 0])\n",
      "model predictions tensor([1, 1]) / tensor([1, 1])\n",
      "accuracy of model 0.6\n"
     ]
    }
   ],
   "source": [
    "acc = evaluate(test_dl,modelA,verbose=True)"
   ]
  },
  {
   "cell_type": "code",
   "execution_count": 65,
   "metadata": {},
   "outputs": [
    {
     "name": "stderr",
     "output_type": "stream",
     "text": [
      "C:\\Users\\ASIVAKUM\\AppData\\Local\\Temp\\ipykernel_13252\\3739207378.py:20: UserWarning: Implicit dimension choice for softmax has been deprecated. Change the call to include dim=X as an argument.\n",
      "  y_hat = F.softmax(outputs)\n"
     ]
    },
    {
     "name": "stdout",
     "output_type": "stream",
     "text": [
      "model predictions tensor([1, 1, 0, 1, 1, 1, 1, 1, 1, 0]) / tensor([1, 0, 0, 1, 1, 1, 1, 0, 0, 0])\n",
      "Sensitivity 1.0000\n",
      "Specificity 0.4000\n",
      "Precision 0.6250\n",
      "False Positive Rate 0.6000\n",
      "F1-score 0.7692\n",
      "accuracy of model 0.7\n"
     ]
    },
    {
     "data": {
      "image/png": "[encoded data removed]",
      "text/plain": [
       "<Figure size 432x288 with 2 Axes>"
      ]
     },
     "metadata": {
      "needs_background": "light"
     },
     "output_type": "display_data"
    }
   ],
   "source": [
    "#visualize confusion matrix\n",
    "from sklearn.metrics import confusion_matrix\n",
    "import seaborn as sns\n",
    "from sklearn import metrics\n",
    "test_dl = torch.utils.data.DataLoader(test_dataset, num_workers=0, batch_size =10, sampler=test_sampler)\n",
    "acc = evaluate_confusion_matrix(test_dl,modelA,verbose=True,device=device)"
   ]
  }
 ],
 "metadata": {
  "kernelspec": {
   "display_name": "Python 3 (ipykernel)",
   "language": "python",
   "name": "python3"
  },
  "language_info": {
   "codemirror_mode": {
    "name": "ipython",
    "version": 3
   },
   "file_extension": ".py",
   "mimetype": "text/x-python",
   "name": "python",
   "nbconvert_exporter": "python",
   "pygments_lexer": "ipython3",
   "version": "3.9.12"
  }
 },
 "nbformat": 4,
 "nbformat_minor": 4
}
